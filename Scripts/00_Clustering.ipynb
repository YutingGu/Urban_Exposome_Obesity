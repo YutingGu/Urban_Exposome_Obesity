{
 "cells": [
  {
   "cell_type": "code",
   "execution_count": 1,
   "metadata": {},
   "outputs": [],
   "source": [
    "import re\n",
    "import numpy as np\n",
    "import pandas as pd\n",
    "import geopandas as gpd\n",
    "import numpy as np\n",
    "import itertools\n",
    "\n",
    "from scipy import linalg\n",
    "import sklearn\n",
    "\n",
    "import matplotlib as mpl\n",
    "from matplotlib import pyplot as plt\n",
    "\n",
    "from sklearn import metrics\n",
    "from sklearn.cluster import KMeans\n",
    "from sklearn.preprocessing import StandardScaler\n",
    "\n",
    "from numpy import random\n",
    "import seaborn as sb\n",
    "import matplotlib.pyplot as plt \n",
    "\n",
    "\n",
    "#import altair as alt\n",
    "np.random.seed(31)\n",
    "%matplotlib inline"
   ]
  },
  {
   "cell_type": "code",
   "execution_count": 3,
   "metadata": {},
   "outputs": [],
   "source": [
    "dataset_path = '../Dataset/cleaned_ukb.csv'\n",
    "data = pd.read_csv(dataset_path, header=0, index_col=0)"
   ]
  },
  {
   "cell_type": "code",
   "execution_count": 11,
   "metadata": {},
   "outputs": [],
   "source": [
    "data = data[data.columns[:16]]"
   ]
  },
  {
   "cell_type": "code",
   "execution_count": 13,
   "metadata": {},
   "outputs": [],
   "source": [
    "data = data.set_index('eid')"
   ]
  },
  {
   "cell_type": "code",
   "execution_count": 14,
   "metadata": {},
   "outputs": [
    {
     "data": {
      "text/html": [
       "<div>\n",
       "<style scoped>\n",
       "    .dataframe tbody tr th:only-of-type {\n",
       "        vertical-align: middle;\n",
       "    }\n",
       "\n",
       "    .dataframe tbody tr th {\n",
       "        vertical-align: top;\n",
       "    }\n",
       "\n",
       "    .dataframe thead th {\n",
       "        text-align: right;\n",
       "    }\n",
       "</style>\n",
       "<table border=\"1\" class=\"dataframe\">\n",
       "  <thead>\n",
       "    <tr style=\"text-align: right;\">\n",
       "      <th></th>\n",
       "      <th>no2_airpol</th>\n",
       "      <th>no_airpol</th>\n",
       "      <th>pm10</th>\n",
       "      <th>pm2_5</th>\n",
       "      <th>pm2_5_ab</th>\n",
       "      <th>trf_int_rd</th>\n",
       "      <th>inv_dist_rd</th>\n",
       "      <th>trf_int_maj_rd</th>\n",
       "      <th>inv_dist_maj_rd</th>\n",
       "      <th>grnspc_buf1000</th>\n",
       "      <th>dom_grdn_buf1000</th>\n",
       "      <th>water_buf1000</th>\n",
       "      <th>nat_env_buf1000</th>\n",
       "      <th>dis_coast</th>\n",
       "      <th>avg_sndpol</th>\n",
       "    </tr>\n",
       "    <tr>\n",
       "      <th>eid</th>\n",
       "      <th></th>\n",
       "      <th></th>\n",
       "      <th></th>\n",
       "      <th></th>\n",
       "      <th></th>\n",
       "      <th></th>\n",
       "      <th></th>\n",
       "      <th></th>\n",
       "      <th></th>\n",
       "      <th></th>\n",
       "      <th></th>\n",
       "      <th></th>\n",
       "      <th></th>\n",
       "      <th></th>\n",
       "      <th></th>\n",
       "    </tr>\n",
       "  </thead>\n",
       "  <tbody>\n",
       "    <tr>\n",
       "      <th>1000239</th>\n",
       "      <td>31.79</td>\n",
       "      <td>50.53</td>\n",
       "      <td>15.510</td>\n",
       "      <td>10.400</td>\n",
       "      <td>1.220</td>\n",
       "      <td>500</td>\n",
       "      <td>0.05</td>\n",
       "      <td>12161</td>\n",
       "      <td>0.00054</td>\n",
       "      <td>14.552000</td>\n",
       "      <td>48.914000</td>\n",
       "      <td>0.000</td>\n",
       "      <td>7.902</td>\n",
       "      <td>77.262</td>\n",
       "      <td>49.24333</td>\n",
       "    </tr>\n",
       "    <tr>\n",
       "      <th>1000436</th>\n",
       "      <td>28.02</td>\n",
       "      <td>38.78</td>\n",
       "      <td>14.190</td>\n",
       "      <td>9.550</td>\n",
       "      <td>1.220</td>\n",
       "      <td>500</td>\n",
       "      <td>0.04</td>\n",
       "      <td>19362</td>\n",
       "      <td>0.00233</td>\n",
       "      <td>38.096000</td>\n",
       "      <td>25.865000</td>\n",
       "      <td>0.083</td>\n",
       "      <td>29.061</td>\n",
       "      <td>9.506</td>\n",
       "      <td>51.86333</td>\n",
       "    </tr>\n",
       "    <tr>\n",
       "      <th>1000677</th>\n",
       "      <td>21.17</td>\n",
       "      <td>38.71</td>\n",
       "      <td>15.050</td>\n",
       "      <td>9.130</td>\n",
       "      <td>1.000</td>\n",
       "      <td>500</td>\n",
       "      <td>0.02</td>\n",
       "      <td>12862</td>\n",
       "      <td>0.00111</td>\n",
       "      <td>44.290000</td>\n",
       "      <td>25.385000</td>\n",
       "      <td>3.473</td>\n",
       "      <td>39.391</td>\n",
       "      <td>42.718</td>\n",
       "      <td>47.11333</td>\n",
       "    </tr>\n",
       "    <tr>\n",
       "      <th>1000694</th>\n",
       "      <td>29.18</td>\n",
       "      <td>45.39</td>\n",
       "      <td>15.887</td>\n",
       "      <td>9.952</td>\n",
       "      <td>1.195</td>\n",
       "      <td>500</td>\n",
       "      <td>0.02</td>\n",
       "      <td>23877</td>\n",
       "      <td>0.01000</td>\n",
       "      <td>34.684222</td>\n",
       "      <td>28.168667</td>\n",
       "      <td>0.359</td>\n",
       "      <td>28.762</td>\n",
       "      <td>7.997</td>\n",
       "      <td>53.58000</td>\n",
       "    </tr>\n",
       "    <tr>\n",
       "      <th>1000737</th>\n",
       "      <td>57.49</td>\n",
       "      <td>128.29</td>\n",
       "      <td>20.410</td>\n",
       "      <td>12.190</td>\n",
       "      <td>1.760</td>\n",
       "      <td>40710</td>\n",
       "      <td>0.03</td>\n",
       "      <td>40710</td>\n",
       "      <td>0.03000</td>\n",
       "      <td>33.391000</td>\n",
       "      <td>23.517000</td>\n",
       "      <td>0.941</td>\n",
       "      <td>20.601</td>\n",
       "      <td>50.689</td>\n",
       "      <td>67.84333</td>\n",
       "    </tr>\n",
       "    <tr>\n",
       "      <th>...</th>\n",
       "      <td>...</td>\n",
       "      <td>...</td>\n",
       "      <td>...</td>\n",
       "      <td>...</td>\n",
       "      <td>...</td>\n",
       "      <td>...</td>\n",
       "      <td>...</td>\n",
       "      <td>...</td>\n",
       "      <td>...</td>\n",
       "      <td>...</td>\n",
       "      <td>...</td>\n",
       "      <td>...</td>\n",
       "      <td>...</td>\n",
       "      <td>...</td>\n",
       "      <td>...</td>\n",
       "    </tr>\n",
       "    <tr>\n",
       "      <th>6024075</th>\n",
       "      <td>34.51</td>\n",
       "      <td>57.07</td>\n",
       "      <td>16.500</td>\n",
       "      <td>10.530</td>\n",
       "      <td>1.300</td>\n",
       "      <td>500</td>\n",
       "      <td>0.06</td>\n",
       "      <td>21083</td>\n",
       "      <td>0.00090</td>\n",
       "      <td>26.214000</td>\n",
       "      <td>41.036000</td>\n",
       "      <td>0.601</td>\n",
       "      <td>15.386</td>\n",
       "      <td>78.100</td>\n",
       "      <td>51.18333</td>\n",
       "    </tr>\n",
       "    <tr>\n",
       "      <th>6024269</th>\n",
       "      <td>27.68</td>\n",
       "      <td>42.54</td>\n",
       "      <td>15.720</td>\n",
       "      <td>10.490</td>\n",
       "      <td>1.050</td>\n",
       "      <td>500</td>\n",
       "      <td>0.07</td>\n",
       "      <td>19916</td>\n",
       "      <td>0.00188</td>\n",
       "      <td>46.822000</td>\n",
       "      <td>22.534000</td>\n",
       "      <td>0.055</td>\n",
       "      <td>28.563</td>\n",
       "      <td>5.243</td>\n",
       "      <td>49.82000</td>\n",
       "    </tr>\n",
       "    <tr>\n",
       "      <th>6024691</th>\n",
       "      <td>48.47</td>\n",
       "      <td>88.34</td>\n",
       "      <td>19.520</td>\n",
       "      <td>11.820</td>\n",
       "      <td>1.940</td>\n",
       "      <td>500</td>\n",
       "      <td>0.04</td>\n",
       "      <td>15428</td>\n",
       "      <td>0.03000</td>\n",
       "      <td>12.319000</td>\n",
       "      <td>26.982000</td>\n",
       "      <td>0.191</td>\n",
       "      <td>1.632</td>\n",
       "      <td>35.385</td>\n",
       "      <td>62.84000</td>\n",
       "    </tr>\n",
       "    <tr>\n",
       "      <th>6024811</th>\n",
       "      <td>21.46</td>\n",
       "      <td>37.65</td>\n",
       "      <td>15.610</td>\n",
       "      <td>9.470</td>\n",
       "      <td>1.080</td>\n",
       "      <td>500</td>\n",
       "      <td>0.04</td>\n",
       "      <td>33752</td>\n",
       "      <td>0.00321</td>\n",
       "      <td>58.000000</td>\n",
       "      <td>18.759000</td>\n",
       "      <td>0.636</td>\n",
       "      <td>45.661</td>\n",
       "      <td>54.487</td>\n",
       "      <td>50.76333</td>\n",
       "    </tr>\n",
       "    <tr>\n",
       "      <th>6024906</th>\n",
       "      <td>30.54</td>\n",
       "      <td>46.62</td>\n",
       "      <td>16.000</td>\n",
       "      <td>10.610</td>\n",
       "      <td>1.180</td>\n",
       "      <td>500</td>\n",
       "      <td>0.03</td>\n",
       "      <td>17598</td>\n",
       "      <td>0.00234</td>\n",
       "      <td>15.670000</td>\n",
       "      <td>46.419000</td>\n",
       "      <td>0.027</td>\n",
       "      <td>15.525</td>\n",
       "      <td>57.428</td>\n",
       "      <td>48.87000</td>\n",
       "    </tr>\n",
       "  </tbody>\n",
       "</table>\n",
       "<p>51879 rows × 15 columns</p>\n",
       "</div>"
      ],
      "text/plain": [
       "         no2_airpol  no_airpol    pm10   pm2_5  pm2_5_ab  trf_int_rd  \\\n",
       "eid                                                                    \n",
       "1000239       31.79      50.53  15.510  10.400     1.220         500   \n",
       "1000436       28.02      38.78  14.190   9.550     1.220         500   \n",
       "1000677       21.17      38.71  15.050   9.130     1.000         500   \n",
       "1000694       29.18      45.39  15.887   9.952     1.195         500   \n",
       "1000737       57.49     128.29  20.410  12.190     1.760       40710   \n",
       "...             ...        ...     ...     ...       ...         ...   \n",
       "6024075       34.51      57.07  16.500  10.530     1.300         500   \n",
       "6024269       27.68      42.54  15.720  10.490     1.050         500   \n",
       "6024691       48.47      88.34  19.520  11.820     1.940         500   \n",
       "6024811       21.46      37.65  15.610   9.470     1.080         500   \n",
       "6024906       30.54      46.62  16.000  10.610     1.180         500   \n",
       "\n",
       "         inv_dist_rd  trf_int_maj_rd  inv_dist_maj_rd  grnspc_buf1000  \\\n",
       "eid                                                                     \n",
       "1000239         0.05           12161          0.00054       14.552000   \n",
       "1000436         0.04           19362          0.00233       38.096000   \n",
       "1000677         0.02           12862          0.00111       44.290000   \n",
       "1000694         0.02           23877          0.01000       34.684222   \n",
       "1000737         0.03           40710          0.03000       33.391000   \n",
       "...              ...             ...              ...             ...   \n",
       "6024075         0.06           21083          0.00090       26.214000   \n",
       "6024269         0.07           19916          0.00188       46.822000   \n",
       "6024691         0.04           15428          0.03000       12.319000   \n",
       "6024811         0.04           33752          0.00321       58.000000   \n",
       "6024906         0.03           17598          0.00234       15.670000   \n",
       "\n",
       "         dom_grdn_buf1000  water_buf1000  nat_env_buf1000  dis_coast  \\\n",
       "eid                                                                    \n",
       "1000239         48.914000          0.000            7.902     77.262   \n",
       "1000436         25.865000          0.083           29.061      9.506   \n",
       "1000677         25.385000          3.473           39.391     42.718   \n",
       "1000694         28.168667          0.359           28.762      7.997   \n",
       "1000737         23.517000          0.941           20.601     50.689   \n",
       "...                   ...            ...              ...        ...   \n",
       "6024075         41.036000          0.601           15.386     78.100   \n",
       "6024269         22.534000          0.055           28.563      5.243   \n",
       "6024691         26.982000          0.191            1.632     35.385   \n",
       "6024811         18.759000          0.636           45.661     54.487   \n",
       "6024906         46.419000          0.027           15.525     57.428   \n",
       "\n",
       "         avg_sndpol  \n",
       "eid                  \n",
       "1000239    49.24333  \n",
       "1000436    51.86333  \n",
       "1000677    47.11333  \n",
       "1000694    53.58000  \n",
       "1000737    67.84333  \n",
       "...             ...  \n",
       "6024075    51.18333  \n",
       "6024269    49.82000  \n",
       "6024691    62.84000  \n",
       "6024811    50.76333  \n",
       "6024906    48.87000  \n",
       "\n",
       "[51879 rows x 15 columns]"
      ]
     },
     "execution_count": 14,
     "metadata": {},
     "output_type": "execute_result"
    }
   ],
   "source": [
    "data"
   ]
  },
  {
   "cell_type": "code",
   "execution_count": 20,
   "metadata": {},
   "outputs": [
    {
     "data": {
      "text/plain": [
       "no2_airpol          0\n",
       "no_airpol           0\n",
       "pm10                0\n",
       "pm2_5               0\n",
       "pm2_5_ab            0\n",
       "trf_int_rd          0\n",
       "inv_dist_rd         0\n",
       "trf_int_maj_rd      0\n",
       "inv_dist_maj_rd     0\n",
       "grnspc_buf1000      0\n",
       "dom_grdn_buf1000    0\n",
       "water_buf1000       0\n",
       "nat_env_buf1000     0\n",
       "dis_coast           0\n",
       "avg_sndpol          0\n",
       "dtype: int64"
      ]
     },
     "execution_count": 20,
     "metadata": {},
     "output_type": "execute_result"
    }
   ],
   "source": [
    "data.isna().sum()"
   ]
  },
  {
   "cell_type": "code",
   "execution_count": 21,
   "metadata": {},
   "outputs": [
    {
     "data": {
      "text/plain": [
       "array([[ 0.63350004,  0.38366919, -0.39446521, ..., -1.26486605,\n",
       "         1.26725486, -0.46680032],\n",
       "       [ 0.14351359, -0.36031214, -1.10276611, ..., -0.43465526,\n",
       "        -1.2003804 ,  0.14309371],\n",
       "       [-0.7467801 , -0.36474437, -0.64129734, ..., -0.02933945,\n",
       "         0.00918189, -0.9626302 ],\n",
       "       ...,\n",
       "       [ 2.80139766,  2.77770616,  1.75726705, ..., -1.51088059,\n",
       "        -0.25788183,  2.69828665],\n",
       "       [-0.70908883, -0.43186099, -0.34080605, ...,  0.21667509,\n",
       "         0.43780222, -0.11296867],\n",
       "       [ 0.47103769,  0.13609753, -0.13153534, ..., -0.96576416,\n",
       "         0.54491178, -0.55370556]])"
      ]
     },
     "execution_count": 21,
     "metadata": {},
     "output_type": "execute_result"
    }
   ],
   "source": [
    "data_scaled = StandardScaler().fit_transform(data)\n",
    "data_scaled"
   ]
  },
  {
   "cell_type": "code",
   "execution_count": 22,
   "metadata": {},
   "outputs": [
    {
     "data": {
      "text/plain": [
       "(51879, 15)"
      ]
     },
     "execution_count": 22,
     "metadata": {},
     "output_type": "execute_result"
    }
   ],
   "source": [
    "data_scaled.shape"
   ]
  },
  {
   "cell_type": "code",
   "execution_count": 50,
   "metadata": {},
   "outputs": [
    {
     "name": "stderr",
     "output_type": "stream",
     "text": [
      "/rds/general/user/eg423/home/anaconda3/lib/python3.11/site-packages/sklearn/cluster/_kmeans.py:870: FutureWarning: The default value of `n_init` will change from 10 to 'auto' in 1.4. Set the value of `n_init` explicitly to suppress the warning\n",
      "  warnings.warn(\n"
     ]
    },
    {
     "name": "stdout",
     "output_type": "stream",
     "text": [
      "For n_clusters = 2 The average silhouette_score is : 0.22394539749321607\n"
     ]
    },
    {
     "name": "stderr",
     "output_type": "stream",
     "text": [
      "/rds/general/user/eg423/home/anaconda3/lib/python3.11/site-packages/sklearn/cluster/_kmeans.py:870: FutureWarning: The default value of `n_init` will change from 10 to 'auto' in 1.4. Set the value of `n_init` explicitly to suppress the warning\n",
      "  warnings.warn(\n"
     ]
    },
    {
     "name": "stdout",
     "output_type": "stream",
     "text": [
      "For n_clusters = 3 The average silhouette_score is : 0.24395300774530068\n"
     ]
    },
    {
     "name": "stderr",
     "output_type": "stream",
     "text": [
      "/rds/general/user/eg423/home/anaconda3/lib/python3.11/site-packages/sklearn/cluster/_kmeans.py:870: FutureWarning: The default value of `n_init` will change from 10 to 'auto' in 1.4. Set the value of `n_init` explicitly to suppress the warning\n",
      "  warnings.warn(\n"
     ]
    },
    {
     "name": "stdout",
     "output_type": "stream",
     "text": [
      "For n_clusters = 4 The average silhouette_score is : 0.25804081425274095\n"
     ]
    },
    {
     "name": "stderr",
     "output_type": "stream",
     "text": [
      "/rds/general/user/eg423/home/anaconda3/lib/python3.11/site-packages/sklearn/cluster/_kmeans.py:870: FutureWarning: The default value of `n_init` will change from 10 to 'auto' in 1.4. Set the value of `n_init` explicitly to suppress the warning\n",
      "  warnings.warn(\n"
     ]
    },
    {
     "name": "stdout",
     "output_type": "stream",
     "text": [
      "For n_clusters = 5 The average silhouette_score is : 0.1945784314523165\n"
     ]
    },
    {
     "name": "stderr",
     "output_type": "stream",
     "text": [
      "/rds/general/user/eg423/home/anaconda3/lib/python3.11/site-packages/sklearn/cluster/_kmeans.py:870: FutureWarning: The default value of `n_init` will change from 10 to 'auto' in 1.4. Set the value of `n_init` explicitly to suppress the warning\n",
      "  warnings.warn(\n"
     ]
    },
    {
     "name": "stdout",
     "output_type": "stream",
     "text": [
      "For n_clusters = 6 The average silhouette_score is : 0.1584612848772541\n"
     ]
    },
    {
     "name": "stderr",
     "output_type": "stream",
     "text": [
      "/rds/general/user/eg423/home/anaconda3/lib/python3.11/site-packages/sklearn/cluster/_kmeans.py:870: FutureWarning: The default value of `n_init` will change from 10 to 'auto' in 1.4. Set the value of `n_init` explicitly to suppress the warning\n",
      "  warnings.warn(\n"
     ]
    },
    {
     "name": "stdout",
     "output_type": "stream",
     "text": [
      "For n_clusters = 7 The average silhouette_score is : 0.16503955688018077\n"
     ]
    },
    {
     "name": "stderr",
     "output_type": "stream",
     "text": [
      "/rds/general/user/eg423/home/anaconda3/lib/python3.11/site-packages/sklearn/cluster/_kmeans.py:870: FutureWarning: The default value of `n_init` will change from 10 to 'auto' in 1.4. Set the value of `n_init` explicitly to suppress the warning\n",
      "  warnings.warn(\n"
     ]
    },
    {
     "name": "stdout",
     "output_type": "stream",
     "text": [
      "For n_clusters = 8 The average silhouette_score is : 0.16731895660215831\n"
     ]
    },
    {
     "name": "stderr",
     "output_type": "stream",
     "text": [
      "/rds/general/user/eg423/home/anaconda3/lib/python3.11/site-packages/sklearn/cluster/_kmeans.py:870: FutureWarning: The default value of `n_init` will change from 10 to 'auto' in 1.4. Set the value of `n_init` explicitly to suppress the warning\n",
      "  warnings.warn(\n"
     ]
    },
    {
     "name": "stdout",
     "output_type": "stream",
     "text": [
      "For n_clusters = 9 The average silhouette_score is : 0.18323200112754778\n"
     ]
    },
    {
     "name": "stderr",
     "output_type": "stream",
     "text": [
      "/rds/general/user/eg423/home/anaconda3/lib/python3.11/site-packages/sklearn/cluster/_kmeans.py:870: FutureWarning: The default value of `n_init` will change from 10 to 'auto' in 1.4. Set the value of `n_init` explicitly to suppress the warning\n",
      "  warnings.warn(\n"
     ]
    },
    {
     "name": "stdout",
     "output_type": "stream",
     "text": [
      "For n_clusters = 10 The average silhouette_score is : 0.16851587134342802\n"
     ]
    },
    {
     "name": "stderr",
     "output_type": "stream",
     "text": [
      "/rds/general/user/eg423/home/anaconda3/lib/python3.11/site-packages/sklearn/cluster/_kmeans.py:870: FutureWarning: The default value of `n_init` will change from 10 to 'auto' in 1.4. Set the value of `n_init` explicitly to suppress the warning\n",
      "  warnings.warn(\n"
     ]
    },
    {
     "name": "stdout",
     "output_type": "stream",
     "text": [
      "For n_clusters = 11 The average silhouette_score is : 0.17271112267377267\n"
     ]
    },
    {
     "name": "stderr",
     "output_type": "stream",
     "text": [
      "/rds/general/user/eg423/home/anaconda3/lib/python3.11/site-packages/sklearn/cluster/_kmeans.py:870: FutureWarning: The default value of `n_init` will change from 10 to 'auto' in 1.4. Set the value of `n_init` explicitly to suppress the warning\n",
      "  warnings.warn(\n"
     ]
    },
    {
     "name": "stdout",
     "output_type": "stream",
     "text": [
      "For n_clusters = 12 The average silhouette_score is : 0.16621884695934236\n"
     ]
    },
    {
     "name": "stderr",
     "output_type": "stream",
     "text": [
      "/rds/general/user/eg423/home/anaconda3/lib/python3.11/site-packages/sklearn/cluster/_kmeans.py:870: FutureWarning: The default value of `n_init` will change from 10 to 'auto' in 1.4. Set the value of `n_init` explicitly to suppress the warning\n",
      "  warnings.warn(\n"
     ]
    },
    {
     "name": "stdout",
     "output_type": "stream",
     "text": [
      "For n_clusters = 13 The average silhouette_score is : 0.1681034041020977\n"
     ]
    },
    {
     "name": "stderr",
     "output_type": "stream",
     "text": [
      "/rds/general/user/eg423/home/anaconda3/lib/python3.11/site-packages/sklearn/cluster/_kmeans.py:870: FutureWarning: The default value of `n_init` will change from 10 to 'auto' in 1.4. Set the value of `n_init` explicitly to suppress the warning\n",
      "  warnings.warn(\n"
     ]
    },
    {
     "name": "stdout",
     "output_type": "stream",
     "text": [
      "For n_clusters = 14 The average silhouette_score is : 0.16842985600405633\n"
     ]
    },
    {
     "name": "stderr",
     "output_type": "stream",
     "text": [
      "/rds/general/user/eg423/home/anaconda3/lib/python3.11/site-packages/sklearn/cluster/_kmeans.py:870: FutureWarning: The default value of `n_init` will change from 10 to 'auto' in 1.4. Set the value of `n_init` explicitly to suppress the warning\n",
      "  warnings.warn(\n"
     ]
    },
    {
     "name": "stdout",
     "output_type": "stream",
     "text": [
      "For n_clusters = 15 The average silhouette_score is : 0.15512502752530882\n"
     ]
    },
    {
     "name": "stderr",
     "output_type": "stream",
     "text": [
      "/rds/general/user/eg423/home/anaconda3/lib/python3.11/site-packages/sklearn/cluster/_kmeans.py:870: FutureWarning: The default value of `n_init` will change from 10 to 'auto' in 1.4. Set the value of `n_init` explicitly to suppress the warning\n",
      "  warnings.warn(\n"
     ]
    },
    {
     "name": "stdout",
     "output_type": "stream",
     "text": [
      "For n_clusters = 16 The average silhouette_score is : 0.14584452911338325\n"
     ]
    },
    {
     "name": "stderr",
     "output_type": "stream",
     "text": [
      "/rds/general/user/eg423/home/anaconda3/lib/python3.11/site-packages/sklearn/cluster/_kmeans.py:870: FutureWarning: The default value of `n_init` will change from 10 to 'auto' in 1.4. Set the value of `n_init` explicitly to suppress the warning\n",
      "  warnings.warn(\n"
     ]
    },
    {
     "name": "stdout",
     "output_type": "stream",
     "text": [
      "For n_clusters = 17 The average silhouette_score is : 0.14762752037327706\n"
     ]
    },
    {
     "name": "stderr",
     "output_type": "stream",
     "text": [
      "/rds/general/user/eg423/home/anaconda3/lib/python3.11/site-packages/sklearn/cluster/_kmeans.py:870: FutureWarning: The default value of `n_init` will change from 10 to 'auto' in 1.4. Set the value of `n_init` explicitly to suppress the warning\n",
      "  warnings.warn(\n"
     ]
    },
    {
     "name": "stdout",
     "output_type": "stream",
     "text": [
      "For n_clusters = 18 The average silhouette_score is : 0.15973402088000657\n"
     ]
    },
    {
     "name": "stderr",
     "output_type": "stream",
     "text": [
      "/rds/general/user/eg423/home/anaconda3/lib/python3.11/site-packages/sklearn/cluster/_kmeans.py:870: FutureWarning: The default value of `n_init` will change from 10 to 'auto' in 1.4. Set the value of `n_init` explicitly to suppress the warning\n",
      "  warnings.warn(\n"
     ]
    },
    {
     "name": "stdout",
     "output_type": "stream",
     "text": [
      "For n_clusters = 19 The average silhouette_score is : 0.1499349801238232\n"
     ]
    },
    {
     "name": "stderr",
     "output_type": "stream",
     "text": [
      "/rds/general/user/eg423/home/anaconda3/lib/python3.11/site-packages/sklearn/cluster/_kmeans.py:870: FutureWarning: The default value of `n_init` will change from 10 to 'auto' in 1.4. Set the value of `n_init` explicitly to suppress the warning\n",
      "  warnings.warn(\n"
     ]
    },
    {
     "name": "stdout",
     "output_type": "stream",
     "text": [
      "For n_clusters = 20 The average silhouette_score is : 0.15231911890500013\n"
     ]
    }
   ],
   "source": [
    "n_cluster_list = range(2,21)\n",
    "elbow = []\n",
    "ss = []\n",
    "for k in n_cluster_list:\n",
    "    #iterating through cluster sizes\n",
    "    clusterer = KMeans(n_clusters = k, random_state=555)\n",
    "    cluster_labels = clusterer.fit_predict(data_scaled)\n",
    "    #Finding the average silhouette score\n",
    "    silhouette_avg = metrics.silhouette_score(data_scaled, cluster_labels)\n",
    "    ss.append(silhouette_avg)\n",
    "    print(\"For n_clusters =\", k,\"The average silhouette_score is :\", silhouette_avg)\n",
    "    #Finding the average SSE\"\n",
    "    elbow.append(clusterer.inertia_) # Inertia: Sum of distances of samples to their closest cluster center"
   ]
  },
  {
   "cell_type": "code",
   "execution_count": 51,
   "metadata": {},
   "outputs": [
    {
     "data": {
      "image/png": "[encoded data removed]",
      "text/plain": [
       "<Figure size 1400x700 with 2 Axes>"
      ]
     },
     "metadata": {},
     "output_type": "display_data"
    }
   ],
   "source": [
    "fig = plt.figure(figsize=(14,7))\n",
    "fig.add_subplot(121)\n",
    "plt.plot(n_cluster_list, elbow,'bx-',label='Sum of squared error')\n",
    "plt.xlabel(\"Number of cluster\")\n",
    "plt.ylabel(\"SSE\")\n",
    "plt.legend()\n",
    "fig.add_subplot(122)\n",
    "plt.plot(n_cluster_list, ss,'bx-',label='Silhouette Score')\n",
    "plt.xlabel(\"Number of cluster\")\n",
    "plt.ylabel(\"Silhouette Score\")\n",
    "plt.legend()\n",
    "plt.show()"
   ]
  },
  {
   "cell_type": "code",
   "execution_count": 52,
   "metadata": {},
   "outputs": [
    {
     "name": "stdout",
     "output_type": "stream",
     "text": [
      "Best k is:  4\n"
     ]
    }
   ],
   "source": [
    "K = n_cluster_list[ss.index(max(ss))]\n",
    "print('Best k is: ', K)"
   ]
  },
  {
   "cell_type": "code",
   "execution_count": 53,
   "metadata": {},
   "outputs": [
    {
     "name": "stderr",
     "output_type": "stream",
     "text": [
      "/rds/general/user/eg423/home/anaconda3/lib/python3.11/site-packages/sklearn/cluster/_kmeans.py:870: FutureWarning: The default value of `n_init` will change from 10 to 'auto' in 1.4. Set the value of `n_init` explicitly to suppress the warning\n",
      "  warnings.warn(\n"
     ]
    }
   ],
   "source": [
    "kmeans_optimal = KMeans(n_clusters=K, random_state=555)\n",
    "kmeans_optimal.fit(data_scaled)\n",
    "final_clusters = kmeans_optimal.labels_"
   ]
  },
  {
   "cell_type": "code",
   "execution_count": 54,
   "metadata": {},
   "outputs": [],
   "source": [
    "data['Cluster'] = final_clusters"
   ]
  },
  {
   "cell_type": "code",
   "execution_count": 55,
   "metadata": {},
   "outputs": [
    {
     "data": {
      "text/plain": [
       "Cluster\n",
       "1    27878\n",
       "2    17437\n",
       "0     3386\n",
       "3     3178\n",
       "Name: count, dtype: int64"
      ]
     },
     "execution_count": 55,
     "metadata": {},
     "output_type": "execute_result"
    }
   ],
   "source": [
    "data['Cluster'].value_counts()"
   ]
  },
  {
   "cell_type": "code",
   "execution_count": 56,
   "metadata": {},
   "outputs": [],
   "source": [
    "data['eid'] = data.index"
   ]
  },
  {
   "cell_type": "code",
   "execution_count": 57,
   "metadata": {},
   "outputs": [],
   "source": [
    "data_cluster = data[['eid','Cluster']]"
   ]
  },
  {
   "cell_type": "code",
   "execution_count": 58,
   "metadata": {},
   "outputs": [
    {
     "data": {
      "text/html": [
       "<div>\n",
       "<style scoped>\n",
       "    .dataframe tbody tr th:only-of-type {\n",
       "        vertical-align: middle;\n",
       "    }\n",
       "\n",
       "    .dataframe tbody tr th {\n",
       "        vertical-align: top;\n",
       "    }\n",
       "\n",
       "    .dataframe thead th {\n",
       "        text-align: right;\n",
       "    }\n",
       "</style>\n",
       "<table border=\"1\" class=\"dataframe\">\n",
       "  <thead>\n",
       "    <tr style=\"text-align: right;\">\n",
       "      <th></th>\n",
       "      <th>eid</th>\n",
       "      <th>Cluster</th>\n",
       "    </tr>\n",
       "    <tr>\n",
       "      <th>eid</th>\n",
       "      <th></th>\n",
       "      <th></th>\n",
       "    </tr>\n",
       "  </thead>\n",
       "  <tbody>\n",
       "    <tr>\n",
       "      <th>1000239</th>\n",
       "      <td>1000239</td>\n",
       "      <td>1</td>\n",
       "    </tr>\n",
       "    <tr>\n",
       "      <th>1000436</th>\n",
       "      <td>1000436</td>\n",
       "      <td>1</td>\n",
       "    </tr>\n",
       "    <tr>\n",
       "      <th>1000677</th>\n",
       "      <td>1000677</td>\n",
       "      <td>2</td>\n",
       "    </tr>\n",
       "    <tr>\n",
       "      <th>1000694</th>\n",
       "      <td>1000694</td>\n",
       "      <td>1</td>\n",
       "    </tr>\n",
       "    <tr>\n",
       "      <th>1000737</th>\n",
       "      <td>1000737</td>\n",
       "      <td>3</td>\n",
       "    </tr>\n",
       "    <tr>\n",
       "      <th>...</th>\n",
       "      <td>...</td>\n",
       "      <td>...</td>\n",
       "    </tr>\n",
       "    <tr>\n",
       "      <th>6024075</th>\n",
       "      <td>6024075</td>\n",
       "      <td>1</td>\n",
       "    </tr>\n",
       "    <tr>\n",
       "      <th>6024269</th>\n",
       "      <td>6024269</td>\n",
       "      <td>1</td>\n",
       "    </tr>\n",
       "    <tr>\n",
       "      <th>6024691</th>\n",
       "      <td>6024691</td>\n",
       "      <td>3</td>\n",
       "    </tr>\n",
       "    <tr>\n",
       "      <th>6024811</th>\n",
       "      <td>6024811</td>\n",
       "      <td>2</td>\n",
       "    </tr>\n",
       "    <tr>\n",
       "      <th>6024906</th>\n",
       "      <td>6024906</td>\n",
       "      <td>1</td>\n",
       "    </tr>\n",
       "  </tbody>\n",
       "</table>\n",
       "<p>51879 rows × 2 columns</p>\n",
       "</div>"
      ],
      "text/plain": [
       "             eid  Cluster\n",
       "eid                      \n",
       "1000239  1000239        1\n",
       "1000436  1000436        1\n",
       "1000677  1000677        2\n",
       "1000694  1000694        1\n",
       "1000737  1000737        3\n",
       "...          ...      ...\n",
       "6024075  6024075        1\n",
       "6024269  6024269        1\n",
       "6024691  6024691        3\n",
       "6024811  6024811        2\n",
       "6024906  6024906        1\n",
       "\n",
       "[51879 rows x 2 columns]"
      ]
     },
     "execution_count": 58,
     "metadata": {},
     "output_type": "execute_result"
    }
   ],
   "source": [
    "data_cluster"
   ]
  },
  {
   "cell_type": "code",
   "execution_count": 59,
   "metadata": {},
   "outputs": [],
   "source": [
    "data_cluster.to_csv('../Dataset/cluster_id.csv', index=False)"
   ]
  },
  {
   "cell_type": "code",
   "execution_count": 60,
   "metadata": {},
   "outputs": [],
   "source": [
    "validation_metric = pd.DataFrame({'elbow':elbow, 'ss':ss})"
   ]
  },
  {
   "cell_type": "code",
   "execution_count": 62,
   "metadata": {},
   "outputs": [],
   "source": [
    "validation_metric.to_csv('../Dataset/cluster_measurement.csv', index=False)"
   ]
  },
  {
   "cell_type": "code",
   "execution_count": null,
   "metadata": {},
   "outputs": [],
   "source": []
  }
 ],
 "metadata": {
  "kernelspec": {
   "display_name": "base-env",
   "language": "python",
   "name": "base"
  },
  "language_info": {
   "codemirror_mode": {
    "name": "ipython",
    "version": 3
   },
   "file_extension": ".py",
   "mimetype": "text/x-python",
   "name": "python",
   "nbconvert_exporter": "python",
   "pygments_lexer": "ipython3",
   "version": "3.11.5"
  }
 },
 "nbformat": 4,
 "nbformat_minor": 2
}
